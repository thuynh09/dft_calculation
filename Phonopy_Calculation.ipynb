{
  "nbformat": 4,
  "nbformat_minor": 0,
  "metadata": {
    "colab": {
      "name": "Phonopy Calculation.ipynb",
      "provenance": [],
      "authorship_tag": "ABX9TyPbCs2oweIUHFA9jU05JlpP"
    },
    "kernelspec": {
      "name": "python3",
      "display_name": "Python 3"
    },
    "language_info": {
      "name": "python"
    }
  },
  "cells": [
    {
      "cell_type": "markdown",
      "source": [
        "# **Background**"
      ],
      "metadata": {
        "id": "YdFe9ustBuLR"
      }
    },
    {
      "cell_type": "markdown",
      "source": [
        "## **1. Phonon calculation:**\n",
        "- "
      ],
      "metadata": {
        "id": "wH65LMoHCMjC"
      }
    },
    {
      "cell_type": "markdown",
      "source": [
        "# **Phonon Calculation**"
      ],
      "metadata": {
        "id": "zfmLQjiEW6B6"
      }
    },
    {
      "cell_type": "markdown",
      "source": [
        "##**1. Structure relaxation**###"
      ],
      "metadata": {
        "id": "Ut2WFrZvYen1"
      }
    },
    {
      "cell_type": "markdown",
      "source": [
        "- Run the structure relaxation with ```POSCAR, KPOINTS, INCAR, POTCAR, job```.\n",
        "- Example of $SiO_{2}$ ```POSCAR``` can be found [here](https://phonopy.github.io/phonopy/input-files.html)\n",
        "\n",
        "\n",
        "\n",
        "\n",
        "- Important parameter:\n",
        "```\n",
        "ISYM = 1\n",
        "```\n",
        "\n"
      ],
      "metadata": {
        "id": "DfrxUFHTYpY8"
      }
    },
    {
      "cell_type": "markdown",
      "source": [
        "##**2.Phonon calculations**"
      ],
      "metadata": {
        "id": "IqSEQUPDZD8k"
      }
    },
    {
      "cell_type": "markdown",
      "source": [
        "###**2.1 Pre-process**\n",
        "- Use ```CONTCAR, KPOINTS, INCAR, POTCAR, job``` from step 1 to continue the calculation.\n",
        "- Run the following command to convert ```CONTCAR``` to ```POSCAR```:\n",
        "```\n",
        "cp CONTCAR POSCAT\n",
        "rm CONTCAR\n",
        "```\n",
        "- Obtain the supercells with displacements:\n",
        "```\n",
        "phonopy -d --dim = \"2 2 3\"\n",
        "```\n",
        "- This code generates following files:\n",
        "```\n",
        "disp.yaml POSCAR-001 POSCAR-002 POSCAR-003 SPOSCAR\n",
        "```\n",
        "  + The number of POSCAR-{number} will very\n"
      ],
      "metadata": {
        "id": "E9zAHW9_ZPow"
      }
    },
    {
      "cell_type": "markdown",
      "source": [
        "###**2.2 Calculation of sets of forces**\n",
        "- Example of ```INCAR``` for the case of $SiO_{2}$ : **NSW = 0 because we do not want to relax the structures.**\n",
        "```\n",
        "PREC = Accurate\n",
        "IBRION = -1\n",
        "ENCUT = 500\n",
        "EDIFF = 1.0e-08\n",
        "ISMEAR = 0; SIGMA = 0.01\n",
        "IALGO = 38\n",
        "LREAL = .FALSE.\n",
        "ADDGRID = .TRUE.\n",
        "LWAVE = .FALSE.\n",
        "LCHARG = .FALSE.\n",
        "```\n",
        "- Create folder ```disp-{number}``` for each ```POSCAR``` by following commands:\n",
        "```\n",
        "# Copy POSCAR-{number}, KPOINTS, INCAR, POTCAR, job into the corresponding disp-{number}\n",
        "for i in {001..003}; do echo $i; mkdir dis-$i; cp KPOINTS POTCAR INCAR job POSCAR-$i disp-$i; done\n",
        "```\n",
        "```\n",
        "# Change name of POSCAR-{number} to POSCAR and then remove POSCAR-{number} in each disp-{number}\n",
        "for i in {001..003}; do echo $i; cd disp-$i; cp POSCAR-$i POSCAR; rm POSCAR-$i; cd ..;done\n",
        "```\n",
        "```\n",
        "# Submit job\n",
        "for i in {001..003} ; do echo $i ; cd disp-$i ; sbatch job ; cd .. ; done\n",
        "```\n",
        "- Create ```PORCE_SETS```\n",
        "```\n",
        "$ phonopy -f disp-{001..003}/vasprun.xml \n",
        "```"
      ],
      "metadata": {
        "id": "2JEfflxHZqJ6"
      }
    },
    {
      "cell_type": "markdown",
      "source": [
        "###**2.3 Post-process**\n",
        "- Create a ```mesh.conf``` by the following commands:\n",
        "```vim mesh.conf```\n",
        "```\n",
        "ATOM_NAME = Si O\n",
        "DIM = 2 2 3\n",
        "MP = 8 8 8\n",
        "```\n",
        "- In the following steps, use ```-s``` option to generate the PDF file.\n",
        "\n",
        "\n",
        "- Calulate the thermal properties with the sampling mesh:\n",
        "```\n",
        "$ phonopy -t mesh.conf$\n",
        "```\n",
        "- After running this command, the table of thermal properties - including temperature, free-entropy, entropy, heat_capacity, and energy - will appear on the terminal. The similar data will be stored in ```thermal_properties.yaml``` file. However, it is easier to plot when we use the table appearing on the terminal.\n",
        "- Copy the table into Excel\n",
        "- The problem is that these 5 columns will convert into 1 column in Excel. Solve this problem by following these steps:\n",
        "```\n",
        "Data > Text to Columns > Next > Next > Finish\n",
        "```   "
      ],
      "metadata": {
        "id": "1XVFhV9HfYQm"
      }
    },
    {
      "cell_type": "markdown",
      "source": [
        "######**2.3.1 Density of states (DOS)**\n",
        "- Plot the density of states by:\n",
        "```\n",
        "$ phonopy -p -s mesh.conf\n",
        "```\n",
        "  + The plot will be saved as ```total_dos.pdf```\n",
        "- Data transfer:\n",
        "```\n",
        "# On the cluster, check the path to go to the file\n",
        "$ pwd\n",
        "```\n",
        "```\n",
        "# On the local machine, use this command to download the file from the cluster\n",
        "(local folder) $ scp <userID>@lrc-xfer.lbl.gov:<path_to_cluster_current_file_pwd> .\n",
        "``` "
      ],
      "metadata": {
        "id": "8AtKsgbki6Uk"
      }
    },
    {
      "cell_type": "markdown",
      "source": [
        "#####**2.3.2 Thermal properties**\n",
        "- Calculate the thermal properties with the sampling mesh:\n",
        "```\n",
        "$ phonopy -t mesh.conf$\n",
        "```\n",
        "- After running this command, the table of thermal properties - including temperature, free-entropy, entropy, heat_capacity, and energy - will appear on the terminal. The similar data will be stored in ```thermal_properties.yaml``` file. However, it is easier to plot when we use the table appearing on the terminal.\n",
        "- Copy the table into Excel.\n",
        "- The problem is that these 5 columns will convert into 1 column in Excel. Solve this problem by following these steps:\n",
        "```\n",
        "Data > Text to Columns > Next > Next > Finish\n",
        "```   \n",
        "- At the end, we will use these information to generate the plot."
      ],
      "metadata": {
        "id": "Wn5RLgadp2sa"
      }
    },
    {
      "cell_type": "markdown",
      "source": [
        "#####**2.3.3 Projected DOS**\n",
        "- Create ```pdos.conf```:\n",
        "```\n",
        "ATOM_NAME = Si O\n",
        "DIM = 2 2 3\n",
        "MP = 8 8 8\n",
        "PDOS = 1 2, 3 4 5 6\n",
        "```\n",
        "- Plot the projected DOS:\n",
        "```\n",
        "phonopy -p -s pdos.conf\n",
        "```\n",
        "- Data transfer.\n"
      ],
      "metadata": {
        "id": "JSVG958Ftt-4"
      }
    },
    {
      "cell_type": "markdown",
      "source": [
        "#####**2.3.4 Band structure**\n",
        "- Create ```band.conf```:\n",
        "```\n",
        "ATOM_NAME = Si O\n",
        "DIM = 2 2 3\n",
        "BAND = 0.5 0.5 0.5 0.0 0.0 0.0 0.5 0.5 0.0 0.0 0.5 0.0\n",
        "```\n",
        "- Plot the band structure:\n",
        "```\n",
        "$ phonopy -p -s band.conf\n",
        "```\n",
        "  + The plot will be saved as ```band.pdf```\n",
        "- Data transfer."
      ],
      "metadata": {
        "id": "wNsPPTu6qRRK"
      }
    },
    {
      "cell_type": "markdown",
      "source": [
        "###**2.4 Plot the thermal properties**"
      ],
      "metadata": {
        "id": "w9LC3jyrtcV-"
      }
    },
    {
      "cell_type": "markdown",
      "source": [
        "###**2.4.1 Upload the file to Google Collab**"
      ],
      "metadata": {
        "id": "IEqBv0v9u1HM"
      }
    },
    {
      "cell_type": "code",
      "source": [
        "import pandas as pd\n",
        "import matplotlib.pyplot as plt\n",
        "import seaborn as sns"
      ],
      "metadata": {
        "id": "LeX66P1LwUMn"
      },
      "execution_count": 5,
      "outputs": []
    },
    {
      "cell_type": "code",
      "source": [
        "#Upload the file (Only run it once time to upload file)\n",
        "from google.colab import files\n",
        "uploaded = files.upload()"
      ],
      "metadata": {
        "colab": {
          "resources": {
            "http://localhost:8080/nbextensions/google.colab/files.js": {
              "data": "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",
              "ok": true,
              "headers": [
                [
                  "content-type",
                  "application/javascript"
                ]
              ],
              "status": 200,
              "status_text": ""
            }
          },
          "base_uri": "https://localhost:8080/",
          "height": 76
        },
        "id": "PiVDsPE2vIE-",
        "outputId": "931d8b53-2dec-4443-b738-ab5c256be9ac"
      },
      "execution_count": 3,
      "outputs": [
        {
          "output_type": "display_data",
          "data": {
            "text/html": [
              "\n",
              "     <input type=\"file\" id=\"files-59b39940-c889-46bf-b3f2-62863b149102\" name=\"files[]\" multiple disabled\n",
              "        style=\"border:none\" />\n",
              "     <output id=\"result-59b39940-c889-46bf-b3f2-62863b149102\">\n",
              "      Upload widget is only available when the cell has been executed in the\n",
              "      current browser session. Please rerun this cell to enable.\n",
              "      </output>\n",
              "      <script src=\"/nbextensions/google.colab/files.js\"></script> "
            ],
            "text/plain": [
              "<IPython.core.display.HTML object>"
            ]
          },
          "metadata": {}
        },
        {
          "output_type": "stream",
          "name": "stdout",
          "text": [
            "Saving thermal_properties.csv to thermal_properties.csv\n"
          ]
        }
      ]
    },
    {
      "cell_type": "code",
      "source": [
        "# Read the file\n",
        "import io\n",
        "data = pd.read_csv(io.BytesIO(uploaded['thermal_properties.csv']))# Dataset is now stored in a Pandas Dataframe"
      ],
      "metadata": {
        "id": "M4yXuSItvR3N"
      },
      "execution_count": 24,
      "outputs": []
    },
    {
      "cell_type": "code",
      "source": [
        "data"
      ],
      "metadata": {
        "colab": {
          "base_uri": "https://localhost:8080/",
          "height": 423
        },
        "id": "4Ay9Us0gvonj",
        "outputId": "41c1cffc-6a1d-4690-9fbd-96c46d4a9daa"
      },
      "execution_count": 25,
      "outputs": [
        {
          "output_type": "execute_result",
          "data": {
            "text/html": [
              "\n",
              "  <div id=\"df-6558a521-4b4e-408b-9ece-07395ea7e60d\">\n",
              "    <div class=\"colab-df-container\">\n",
              "      <div>\n",
              "<style scoped>\n",
              "    .dataframe tbody tr th:only-of-type {\n",
              "        vertical-align: middle;\n",
              "    }\n",
              "\n",
              "    .dataframe tbody tr th {\n",
              "        vertical-align: top;\n",
              "    }\n",
              "\n",
              "    .dataframe thead th {\n",
              "        text-align: right;\n",
              "    }\n",
              "</style>\n",
              "<table border=\"1\" class=\"dataframe\">\n",
              "  <thead>\n",
              "    <tr style=\"text-align: right;\">\n",
              "      <th></th>\n",
              "      <th>T [K]</th>\n",
              "      <th>F [kJ/mol]</th>\n",
              "      <th>S [J/K/mol]</th>\n",
              "      <th>C_v [J/K/mol]</th>\n",
              "      <th>E [kJ/mol]</th>\n",
              "    </tr>\n",
              "  </thead>\n",
              "  <tbody>\n",
              "    <tr>\n",
              "      <th>0</th>\n",
              "      <td>0</td>\n",
              "      <td>59.807593</td>\n",
              "      <td>0.000000</td>\n",
              "      <td>0.000000</td>\n",
              "      <td>59.807593</td>\n",
              "    </tr>\n",
              "    <tr>\n",
              "      <th>1</th>\n",
              "      <td>10</td>\n",
              "      <td>59.807593</td>\n",
              "      <td>0.000059</td>\n",
              "      <td>0.000572</td>\n",
              "      <td>59.807593</td>\n",
              "    </tr>\n",
              "    <tr>\n",
              "      <th>2</th>\n",
              "      <td>20</td>\n",
              "      <td>59.807570</td>\n",
              "      <td>0.007573</td>\n",
              "      <td>0.038269</td>\n",
              "      <td>59.807722</td>\n",
              "    </tr>\n",
              "    <tr>\n",
              "      <th>3</th>\n",
              "      <td>30</td>\n",
              "      <td>59.807338</td>\n",
              "      <td>0.045815</td>\n",
              "      <td>0.182522</td>\n",
              "      <td>59.808712</td>\n",
              "    </tr>\n",
              "    <tr>\n",
              "      <th>4</th>\n",
              "      <td>40</td>\n",
              "      <td>59.806475</td>\n",
              "      <td>0.138127</td>\n",
              "      <td>0.518120</td>\n",
              "      <td>59.812000</td>\n",
              "    </tr>\n",
              "    <tr>\n",
              "      <th>...</th>\n",
              "      <td>...</td>\n",
              "      <td>...</td>\n",
              "      <td>...</td>\n",
              "      <td>...</td>\n",
              "      <td>...</td>\n",
              "    </tr>\n",
              "    <tr>\n",
              "      <th>96</th>\n",
              "      <td>960</td>\n",
              "      <td>-32.205218</td>\n",
              "      <td>192.787241</td>\n",
              "      <td>140.423564</td>\n",
              "      <td>152.870534</td>\n",
              "    </tr>\n",
              "    <tr>\n",
              "      <th>97</th>\n",
              "      <td>970</td>\n",
              "      <td>-34.140382</td>\n",
              "      <td>194.243354</td>\n",
              "      <td>140.603119</td>\n",
              "      <td>154.275672</td>\n",
              "    </tr>\n",
              "    <tr>\n",
              "      <th>98</th>\n",
              "      <td>980</td>\n",
              "      <td>-36.090041</td>\n",
              "      <td>195.686347</td>\n",
              "      <td>140.777583</td>\n",
              "      <td>155.682579</td>\n",
              "    </tr>\n",
              "    <tr>\n",
              "      <th>99</th>\n",
              "      <td>990</td>\n",
              "      <td>-38.054066</td>\n",
              "      <td>197.116437</td>\n",
              "      <td>140.947143</td>\n",
              "      <td>157.091207</td>\n",
              "    </tr>\n",
              "    <tr>\n",
              "      <th>100</th>\n",
              "      <td>1000</td>\n",
              "      <td>-40.032327</td>\n",
              "      <td>198.533834</td>\n",
              "      <td>141.111976</td>\n",
              "      <td>158.501506</td>\n",
              "    </tr>\n",
              "  </tbody>\n",
              "</table>\n",
              "<p>101 rows × 5 columns</p>\n",
              "</div>\n",
              "      <button class=\"colab-df-convert\" onclick=\"convertToInteractive('df-6558a521-4b4e-408b-9ece-07395ea7e60d')\"\n",
              "              title=\"Convert this dataframe to an interactive table.\"\n",
              "              style=\"display:none;\">\n",
              "        \n",
              "  <svg xmlns=\"http://www.w3.org/2000/svg\" height=\"24px\"viewBox=\"0 0 24 24\"\n",
              "       width=\"24px\">\n",
              "    <path d=\"M0 0h24v24H0V0z\" fill=\"none\"/>\n",
              "    <path d=\"M18.56 5.44l.94 2.06.94-2.06 2.06-.94-2.06-.94-.94-2.06-.94 2.06-2.06.94zm-11 1L8.5 8.5l.94-2.06 2.06-.94-2.06-.94L8.5 2.5l-.94 2.06-2.06.94zm10 10l.94 2.06.94-2.06 2.06-.94-2.06-.94-.94-2.06-.94 2.06-2.06.94z\"/><path d=\"M17.41 7.96l-1.37-1.37c-.4-.4-.92-.59-1.43-.59-.52 0-1.04.2-1.43.59L10.3 9.45l-7.72 7.72c-.78.78-.78 2.05 0 2.83L4 21.41c.39.39.9.59 1.41.59.51 0 1.02-.2 1.41-.59l7.78-7.78 2.81-2.81c.8-.78.8-2.07 0-2.86zM5.41 20L4 18.59l7.72-7.72 1.47 1.35L5.41 20z\"/>\n",
              "  </svg>\n",
              "      </button>\n",
              "      \n",
              "  <style>\n",
              "    .colab-df-container {\n",
              "      display:flex;\n",
              "      flex-wrap:wrap;\n",
              "      gap: 12px;\n",
              "    }\n",
              "\n",
              "    .colab-df-convert {\n",
              "      background-color: #E8F0FE;\n",
              "      border: none;\n",
              "      border-radius: 50%;\n",
              "      cursor: pointer;\n",
              "      display: none;\n",
              "      fill: #1967D2;\n",
              "      height: 32px;\n",
              "      padding: 0 0 0 0;\n",
              "      width: 32px;\n",
              "    }\n",
              "\n",
              "    .colab-df-convert:hover {\n",
              "      background-color: #E2EBFA;\n",
              "      box-shadow: 0px 1px 2px rgba(60, 64, 67, 0.3), 0px 1px 3px 1px rgba(60, 64, 67, 0.15);\n",
              "      fill: #174EA6;\n",
              "    }\n",
              "\n",
              "    [theme=dark] .colab-df-convert {\n",
              "      background-color: #3B4455;\n",
              "      fill: #D2E3FC;\n",
              "    }\n",
              "\n",
              "    [theme=dark] .colab-df-convert:hover {\n",
              "      background-color: #434B5C;\n",
              "      box-shadow: 0px 1px 3px 1px rgba(0, 0, 0, 0.15);\n",
              "      filter: drop-shadow(0px 1px 2px rgba(0, 0, 0, 0.3));\n",
              "      fill: #FFFFFF;\n",
              "    }\n",
              "  </style>\n",
              "\n",
              "      <script>\n",
              "        const buttonEl =\n",
              "          document.querySelector('#df-6558a521-4b4e-408b-9ece-07395ea7e60d button.colab-df-convert');\n",
              "        buttonEl.style.display =\n",
              "          google.colab.kernel.accessAllowed ? 'block' : 'none';\n",
              "\n",
              "        async function convertToInteractive(key) {\n",
              "          const element = document.querySelector('#df-6558a521-4b4e-408b-9ece-07395ea7e60d');\n",
              "          const dataTable =\n",
              "            await google.colab.kernel.invokeFunction('convertToInteractive',\n",
              "                                                     [key], {});\n",
              "          if (!dataTable) return;\n",
              "\n",
              "          const docLinkHtml = 'Like what you see? Visit the ' +\n",
              "            '<a target=\"_blank\" href=https://colab.research.google.com/notebooks/data_table.ipynb>data table notebook</a>'\n",
              "            + ' to learn more about interactive tables.';\n",
              "          element.innerHTML = '';\n",
              "          dataTable['output_type'] = 'display_data';\n",
              "          await google.colab.output.renderOutput(dataTable, element);\n",
              "          const docLink = document.createElement('div');\n",
              "          docLink.innerHTML = docLinkHtml;\n",
              "          element.appendChild(docLink);\n",
              "        }\n",
              "      </script>\n",
              "    </div>\n",
              "  </div>\n",
              "  "
            ],
            "text/plain": [
              "     T [K]  F [kJ/mol]  S [J/K/mol]  C_v [J/K/mol]  E [kJ/mol]\n",
              "0        0   59.807593     0.000000       0.000000   59.807593\n",
              "1       10   59.807593     0.000059       0.000572   59.807593\n",
              "2       20   59.807570     0.007573       0.038269   59.807722\n",
              "3       30   59.807338     0.045815       0.182522   59.808712\n",
              "4       40   59.806475     0.138127       0.518120   59.812000\n",
              "..     ...         ...          ...            ...         ...\n",
              "96     960  -32.205218   192.787241     140.423564  152.870534\n",
              "97     970  -34.140382   194.243354     140.603119  154.275672\n",
              "98     980  -36.090041   195.686347     140.777583  155.682579\n",
              "99     990  -38.054066   197.116437     140.947143  157.091207\n",
              "100   1000  -40.032327   198.533834     141.111976  158.501506\n",
              "\n",
              "[101 rows x 5 columns]"
            ]
          },
          "metadata": {},
          "execution_count": 25
        }
      ]
    },
    {
      "cell_type": "code",
      "source": [
        "# Check the data column names\n",
        "data.columns"
      ],
      "metadata": {
        "colab": {
          "base_uri": "https://localhost:8080/"
        },
        "id": "xuchrz2K028O",
        "outputId": "552cd34d-eacb-4b44-e034-370131cd64eb"
      },
      "execution_count": 26,
      "outputs": [
        {
          "output_type": "execute_result",
          "data": {
            "text/plain": [
              "Index(['T [K]', 'F [kJ/mol]', 'S [J/K/mol]', 'C_v [J/K/mol]', 'E [kJ/mol]'], dtype='object')"
            ]
          },
          "metadata": {},
          "execution_count": 26
        }
      ]
    },
    {
      "cell_type": "code",
      "source": [
        "# Rename the data column names\n",
        "thermal = data.rename(columns={\"T [K]\": \"T\", \n",
        "                            \"F [kJ/mol]\": \"F\", \n",
        "                            \"S [J/K/mol]\": \"S\", \n",
        "                            \"C_v [J/K/mol]\": \"C_v\", \n",
        "                            \"E [kJ/mol]\": \"E\"})\n",
        "thermal"
      ],
      "metadata": {
        "colab": {
          "base_uri": "https://localhost:8080/",
          "height": 423
        },
        "id": "aSeK26TN0H28",
        "outputId": "9a33706c-2d3d-4545-f50b-b9d7aacc00af"
      },
      "execution_count": 27,
      "outputs": [
        {
          "output_type": "execute_result",
          "data": {
            "text/html": [
              "\n",
              "  <div id=\"df-d5a79ac3-2244-4ced-9e06-b3d35c27ef82\">\n",
              "    <div class=\"colab-df-container\">\n",
              "      <div>\n",
              "<style scoped>\n",
              "    .dataframe tbody tr th:only-of-type {\n",
              "        vertical-align: middle;\n",
              "    }\n",
              "\n",
              "    .dataframe tbody tr th {\n",
              "        vertical-align: top;\n",
              "    }\n",
              "\n",
              "    .dataframe thead th {\n",
              "        text-align: right;\n",
              "    }\n",
              "</style>\n",
              "<table border=\"1\" class=\"dataframe\">\n",
              "  <thead>\n",
              "    <tr style=\"text-align: right;\">\n",
              "      <th></th>\n",
              "      <th>T</th>\n",
              "      <th>F</th>\n",
              "      <th>S</th>\n",
              "      <th>C_v</th>\n",
              "      <th>E</th>\n",
              "    </tr>\n",
              "  </thead>\n",
              "  <tbody>\n",
              "    <tr>\n",
              "      <th>0</th>\n",
              "      <td>0</td>\n",
              "      <td>59.807593</td>\n",
              "      <td>0.000000</td>\n",
              "      <td>0.000000</td>\n",
              "      <td>59.807593</td>\n",
              "    </tr>\n",
              "    <tr>\n",
              "      <th>1</th>\n",
              "      <td>10</td>\n",
              "      <td>59.807593</td>\n",
              "      <td>0.000059</td>\n",
              "      <td>0.000572</td>\n",
              "      <td>59.807593</td>\n",
              "    </tr>\n",
              "    <tr>\n",
              "      <th>2</th>\n",
              "      <td>20</td>\n",
              "      <td>59.807570</td>\n",
              "      <td>0.007573</td>\n",
              "      <td>0.038269</td>\n",
              "      <td>59.807722</td>\n",
              "    </tr>\n",
              "    <tr>\n",
              "      <th>3</th>\n",
              "      <td>30</td>\n",
              "      <td>59.807338</td>\n",
              "      <td>0.045815</td>\n",
              "      <td>0.182522</td>\n",
              "      <td>59.808712</td>\n",
              "    </tr>\n",
              "    <tr>\n",
              "      <th>4</th>\n",
              "      <td>40</td>\n",
              "      <td>59.806475</td>\n",
              "      <td>0.138127</td>\n",
              "      <td>0.518120</td>\n",
              "      <td>59.812000</td>\n",
              "    </tr>\n",
              "    <tr>\n",
              "      <th>...</th>\n",
              "      <td>...</td>\n",
              "      <td>...</td>\n",
              "      <td>...</td>\n",
              "      <td>...</td>\n",
              "      <td>...</td>\n",
              "    </tr>\n",
              "    <tr>\n",
              "      <th>96</th>\n",
              "      <td>960</td>\n",
              "      <td>-32.205218</td>\n",
              "      <td>192.787241</td>\n",
              "      <td>140.423564</td>\n",
              "      <td>152.870534</td>\n",
              "    </tr>\n",
              "    <tr>\n",
              "      <th>97</th>\n",
              "      <td>970</td>\n",
              "      <td>-34.140382</td>\n",
              "      <td>194.243354</td>\n",
              "      <td>140.603119</td>\n",
              "      <td>154.275672</td>\n",
              "    </tr>\n",
              "    <tr>\n",
              "      <th>98</th>\n",
              "      <td>980</td>\n",
              "      <td>-36.090041</td>\n",
              "      <td>195.686347</td>\n",
              "      <td>140.777583</td>\n",
              "      <td>155.682579</td>\n",
              "    </tr>\n",
              "    <tr>\n",
              "      <th>99</th>\n",
              "      <td>990</td>\n",
              "      <td>-38.054066</td>\n",
              "      <td>197.116437</td>\n",
              "      <td>140.947143</td>\n",
              "      <td>157.091207</td>\n",
              "    </tr>\n",
              "    <tr>\n",
              "      <th>100</th>\n",
              "      <td>1000</td>\n",
              "      <td>-40.032327</td>\n",
              "      <td>198.533834</td>\n",
              "      <td>141.111976</td>\n",
              "      <td>158.501506</td>\n",
              "    </tr>\n",
              "  </tbody>\n",
              "</table>\n",
              "<p>101 rows × 5 columns</p>\n",
              "</div>\n",
              "      <button class=\"colab-df-convert\" onclick=\"convertToInteractive('df-d5a79ac3-2244-4ced-9e06-b3d35c27ef82')\"\n",
              "              title=\"Convert this dataframe to an interactive table.\"\n",
              "              style=\"display:none;\">\n",
              "        \n",
              "  <svg xmlns=\"http://www.w3.org/2000/svg\" height=\"24px\"viewBox=\"0 0 24 24\"\n",
              "       width=\"24px\">\n",
              "    <path d=\"M0 0h24v24H0V0z\" fill=\"none\"/>\n",
              "    <path d=\"M18.56 5.44l.94 2.06.94-2.06 2.06-.94-2.06-.94-.94-2.06-.94 2.06-2.06.94zm-11 1L8.5 8.5l.94-2.06 2.06-.94-2.06-.94L8.5 2.5l-.94 2.06-2.06.94zm10 10l.94 2.06.94-2.06 2.06-.94-2.06-.94-.94-2.06-.94 2.06-2.06.94z\"/><path d=\"M17.41 7.96l-1.37-1.37c-.4-.4-.92-.59-1.43-.59-.52 0-1.04.2-1.43.59L10.3 9.45l-7.72 7.72c-.78.78-.78 2.05 0 2.83L4 21.41c.39.39.9.59 1.41.59.51 0 1.02-.2 1.41-.59l7.78-7.78 2.81-2.81c.8-.78.8-2.07 0-2.86zM5.41 20L4 18.59l7.72-7.72 1.47 1.35L5.41 20z\"/>\n",
              "  </svg>\n",
              "      </button>\n",
              "      \n",
              "  <style>\n",
              "    .colab-df-container {\n",
              "      display:flex;\n",
              "      flex-wrap:wrap;\n",
              "      gap: 12px;\n",
              "    }\n",
              "\n",
              "    .colab-df-convert {\n",
              "      background-color: #E8F0FE;\n",
              "      border: none;\n",
              "      border-radius: 50%;\n",
              "      cursor: pointer;\n",
              "      display: none;\n",
              "      fill: #1967D2;\n",
              "      height: 32px;\n",
              "      padding: 0 0 0 0;\n",
              "      width: 32px;\n",
              "    }\n",
              "\n",
              "    .colab-df-convert:hover {\n",
              "      background-color: #E2EBFA;\n",
              "      box-shadow: 0px 1px 2px rgba(60, 64, 67, 0.3), 0px 1px 3px 1px rgba(60, 64, 67, 0.15);\n",
              "      fill: #174EA6;\n",
              "    }\n",
              "\n",
              "    [theme=dark] .colab-df-convert {\n",
              "      background-color: #3B4455;\n",
              "      fill: #D2E3FC;\n",
              "    }\n",
              "\n",
              "    [theme=dark] .colab-df-convert:hover {\n",
              "      background-color: #434B5C;\n",
              "      box-shadow: 0px 1px 3px 1px rgba(0, 0, 0, 0.15);\n",
              "      filter: drop-shadow(0px 1px 2px rgba(0, 0, 0, 0.3));\n",
              "      fill: #FFFFFF;\n",
              "    }\n",
              "  </style>\n",
              "\n",
              "      <script>\n",
              "        const buttonEl =\n",
              "          document.querySelector('#df-d5a79ac3-2244-4ced-9e06-b3d35c27ef82 button.colab-df-convert');\n",
              "        buttonEl.style.display =\n",
              "          google.colab.kernel.accessAllowed ? 'block' : 'none';\n",
              "\n",
              "        async function convertToInteractive(key) {\n",
              "          const element = document.querySelector('#df-d5a79ac3-2244-4ced-9e06-b3d35c27ef82');\n",
              "          const dataTable =\n",
              "            await google.colab.kernel.invokeFunction('convertToInteractive',\n",
              "                                                     [key], {});\n",
              "          if (!dataTable) return;\n",
              "\n",
              "          const docLinkHtml = 'Like what you see? Visit the ' +\n",
              "            '<a target=\"_blank\" href=https://colab.research.google.com/notebooks/data_table.ipynb>data table notebook</a>'\n",
              "            + ' to learn more about interactive tables.';\n",
              "          element.innerHTML = '';\n",
              "          dataTable['output_type'] = 'display_data';\n",
              "          await google.colab.output.renderOutput(dataTable, element);\n",
              "          const docLink = document.createElement('div');\n",
              "          docLink.innerHTML = docLinkHtml;\n",
              "          element.appendChild(docLink);\n",
              "        }\n",
              "      </script>\n",
              "    </div>\n",
              "  </div>\n",
              "  "
            ],
            "text/plain": [
              "        T          F           S         C_v           E\n",
              "0       0  59.807593    0.000000    0.000000   59.807593\n",
              "1      10  59.807593    0.000059    0.000572   59.807593\n",
              "2      20  59.807570    0.007573    0.038269   59.807722\n",
              "3      30  59.807338    0.045815    0.182522   59.808712\n",
              "4      40  59.806475    0.138127    0.518120   59.812000\n",
              "..    ...        ...         ...         ...         ...\n",
              "96    960 -32.205218  192.787241  140.423564  152.870534\n",
              "97    970 -34.140382  194.243354  140.603119  154.275672\n",
              "98    980 -36.090041  195.686347  140.777583  155.682579\n",
              "99    990 -38.054066  197.116437  140.947143  157.091207\n",
              "100  1000 -40.032327  198.533834  141.111976  158.501506\n",
              "\n",
              "[101 rows x 5 columns]"
            ]
          },
          "metadata": {},
          "execution_count": 27
        }
      ]
    },
    {
      "cell_type": "markdown",
      "source": [
        "###**2.4.2 Plotting**\n"
      ],
      "metadata": {
        "id": "l-pntPzLwcew"
      }
    },
    {
      "cell_type": "markdown",
      "source": [
        "#### Matplotlib and Seaborn Table of Common Functions\n",
        "\n",
        "`x` and `y` are sequences of values.\n",
        "\n",
        "| Function | Description |\n",
        "| -------- | ----------- |\n",
        "| `plt.plot(x, y)` | Creates a line plot of `x` against `y` |\n",
        "| `plt.title(name)` | Adds a title `name` to the current plot |\n",
        "| `plt.xlabel(name)` | Adds a label `name` to the x-axis |\n",
        "| `plt.ylabel(name)` | Adds a label `name` to the y-axis |\n",
        "| `plt.scatter(x, y)` | Creates a scatter plot of `x` against `y` |\n",
        "| `plt.hist(x, bins=None)` | Creates a histogram of `x`; `bins` can be an integer or a sequence |\n",
        "| `plt.bar(x, height)` | Creates a bar plot of categories `x` and corresponding heights `height` |\n",
        "| `sns.distplot(data, x, y, hue, kind)` | Creates a distribution plot; `data` is a DataFrame; `x`, `y` are column names in `data` that specify positions on the x and y axes; `hue` is a column name in `data` that adds subcategories to the plot based on `hue`; `kind` determines the visualization type, can be `hist` or `kde` |\n",
        "|`sns.lineplot(data, x, y, hue)` | Creates a line plot |\n",
        "|`sns.scatterplot(data, x, y, hue, size)` | Creates a scatter plot; `size` is a vector that contains the size of point for each subcategory based on `hue` |\n",
        "|`sns.kdeplot(x, y)` |  Creates a kernel density estimate plot; `x`, `y` are series of data that indicate positions on the `x` and `y` axis |\n",
        "|`sns.jointplot(x, y, data, kind)` | Creates a joint plot of 2 variables with KDE plot in the middle and a distribution plot for each variable on the sides; `kind` determines the visualization type for the distribution plot, can be `scatter`, `kde` or `hist` |"
      ],
      "metadata": {
        "id": "L8j5HNe_y61f"
      }
    },
    {
      "cell_type": "code",
      "source": [
        "plt.figure(figsize=(10,8))\n",
        "sns.lineplot(data = thermal, x = \"T\", y = \"F\", label = 'Free energy [KJ/mol');\n",
        "sns.lineplot(data = thermal, x = \"T\", y = \"S\", label = 'Entropy [J/K/mol]');\n",
        "sns.lineplot(data = thermal, x = \"T\", y = \"C_v\", label = 'Heat capacity C_v [J/K/mol]');\n",
        "sns.lineplot(data = thermal, x = \"T\", y = \"E\", label = 'Energy [KJ/mol]');\n",
        "plt.xlabel('Temperature [K]');\n",
        "plt.ylabel('')\n",
        "plt.title('Thermal properties')\n",
        "plt.legend();"
      ],
      "metadata": {
        "colab": {
          "base_uri": "https://localhost:8080/",
          "height": 513
        },
        "id": "GATzGIi4xsA9",
        "outputId": "022ed5e6-91db-46eb-f25a-08c799ae3ffd"
      },
      "execution_count": 44,
      "outputs": [
        {
          "output_type": "display_data",
          "data": {
            "image/png": "[encoded data removed]",
            "text/plain": [
              "<Figure size 720x576 with 1 Axes>"
            ]
          },
          "metadata": {
            "needs_background": "light"
          }
        }
      ]
    }
  ]
}